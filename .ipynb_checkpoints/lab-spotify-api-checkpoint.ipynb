{
 "cells": [
  {
   "cell_type": "code",
   "execution_count": null,
   "id": "a7ee981e",
   "metadata": {},
   "outputs": [],
   "source": [
    "!conda install -c conda-forge spotipy -y"
   ]
  },
  {
   "cell_type": "code",
   "execution_count": null,
   "id": "2f5b3626",
   "metadata": {},
   "outputs": [],
   "source": [
    "# Importing libraries\n",
    "\n",
    "import numpy as np\n",
    "import pandas as pd\n",
    "import matplotlib.pyplot as plt\n",
    "import seaborn as sns\n",
    "import sys\n",
    "from config import *\n",
    "import spotipy\n",
    "import json\n",
    "from spotipy.oauth2 import SpotifyClientCredentials\n",
    "import time\n",
    "from time import sleep"
   ]
  },
  {
   "cell_type": "code",
   "execution_count": null,
   "id": "918f955b",
   "metadata": {},
   "outputs": [],
   "source": [
    "# Loading not_hot dataframe\n",
    "\n",
    "not_hot_songs = pd.read_csv(r\"C:\\Users\\priya\\Documents\\IRONHACK\\Week_6\\Day_1\\Afternoon\\lab-not-hot-songs\\songs.csv\")\n",
    "\n",
    "not_hot_songs"
   ]
  },
  {
   "cell_type": "code",
   "execution_count": null,
   "id": "1bb958fd",
   "metadata": {},
   "outputs": [],
   "source": [
    "#sample_not_hot_songs = sample_not_hot_songs.drop('Unnamed: 0', axis=1)\n",
    "#sample_not_hot_songs#"
   ]
  },
  {
   "cell_type": "code",
   "execution_count": null,
   "id": "5edab384",
   "metadata": {},
   "outputs": [],
   "source": [
    "hot_songs = pd.read_csv(r\"C:\\Users\\priya\\Documents\\IRONHACK\\Week_6\\Day_1\\Morning\\lab-web-scraping-single-page\\hot_songs.csv\")\n",
    "hot_songs"
   ]
  },
  {
   "cell_type": "code",
   "execution_count": null,
   "id": "fa977863",
   "metadata": {},
   "outputs": [],
   "source": [
    "hot_songs = hot_songs.drop('Unnamed: 0', axis=1)\n",
    "hot_songs"
   ]
  },
  {
   "cell_type": "code",
   "execution_count": null,
   "id": "51259ffe",
   "metadata": {},
   "outputs": [],
   "source": [
    "#Initialize SpotiPy with user credentias #\n",
    "sp = spotipy.Spotify(auth_manager=SpotifyClientCredentials(client_id=Client_ID,\n",
    "                                                           client_secret=Client_Secret))"
   ]
  },
  {
   "cell_type": "code",
   "execution_count": null,
   "id": "4e9325aa",
   "metadata": {},
   "outputs": [],
   "source": []
  },
  {
   "cell_type": "code",
   "execution_count": null,
   "id": "b934ce0b",
   "metadata": {},
   "outputs": [],
   "source": [
    "# load of datasets \n",
    "\n",
    "hot_songs = pd.read_csv(\"hot_songs.csv\")\n",
    "\n",
    "not_hot_songs = pd.read_csv(r\"C:\\Users\\priya\\Documents\\IRONHACK\\Week_6\\Day_1\\Afternoon\\lab-not-hot-songs\\songs.csv\")\n",
    "not_hot_songs = not_hot_songs.drop(columns= ['duration_ms', 'explicit', 'year', 'popularity',\n",
    "       'danceability', 'energy', 'key', 'loudness', 'mode', 'speechiness',\n",
    "       'acousticness', 'instrumentalness', 'liveness', 'valence', 'tempo',\n",
    "       'genre'])\n",
    "not_hot_songs = not_hot_songs.rename(columns={'song': 'title'})"
   ]
  },
  {
   "cell_type": "code",
   "execution_count": null,
   "id": "4b49c79b",
   "metadata": {},
   "outputs": [],
   "source": [
    "#chunks of 50 songs\n",
    "chunks = np.split(hot_songs, 50)"
   ]
  },
  {
   "cell_type": "code",
   "execution_count": null,
   "id": "6ea06e7e",
   "metadata": {},
   "outputs": [],
   "source": []
  },
  {
   "cell_type": "code",
   "execution_count": null,
   "id": "906146d0",
   "metadata": {},
   "outputs": [],
   "source": [
    "print(hot_songs.columns)"
   ]
  },
  {
   "cell_type": "code",
   "execution_count": null,
   "id": "a6a605e3",
   "metadata": {},
   "outputs": [],
   "source": [
    "import ipywidgets as widgets\n",
    "\n",
    "progress_bar = widgets.IntProgress(\n",
    "    value=0,\n",
    "    min=0,\n",
    "    max=10,\n",
    "    description='Loading:',\n",
    "    bar_style='',\n",
    "    style={'bar_color': 'red'},\n",
    "    orientation='horizontal'\n",
    ")\n",
    "\n",
    "display(progress_bar)"
   ]
  },
  {
   "cell_type": "code",
   "execution_count": null,
   "id": "8930ff63",
   "metadata": {},
   "outputs": [],
   "source": [
    "#function to search a single song\n",
    "\n",
    "chunks = np.split(hot_songs, 50)\n",
    "\n",
    "def search_song(title, artist, limit):\n",
    "    ...\n",
    "    progress_bar = widgets.IntProgress(\n",
    "    value=0,\n",
    "    min=0,\n",
    "    max=len(chunks),\n",
    "    description='Progress:',\n",
    "    bar_style='',\n",
    "    style={'bar_color': 'blue'},\n",
    "    orientation='horizontal'\n",
    "    )\n",
    "    \n",
    "    display(progress_bar)\n",
    "    \n",
    "    list_of_ids = []\n",
    "    for chunk in chunks:\n",
    "        print(\"Retrieving id from chunk\")\n",
    "        for song in chunk.itertuples(index=False):\n",
    "            try:\n",
    "                results = sp.search(q=\"track:{} artist:{}\".format(song.title, song.artist), limit=1)\n",
    "                if results['tracks']['total'] > 0:\n",
    "                    song_id = results['tracks']['items'][0]['uri']\n",
    "                    list_of_ids.append(song_id)\n",
    "                else:\n",
    "                    list_of_ids.append(\"None\")\n",
    "                    print(\"Song not found\")\n",
    "            except:\n",
    "                list_of_ids.append(\"None\")\n",
    "                print(\"Song not found\")\n",
    "        print(\"Sleeping a bit before getting the next ids...\")\n",
    "        sleep(20)\n",
    "\n",
    "# Update progress bar to display completed progress\n",
    "        progress_bar.value = len(chunks)\n",
    "\n",
    "    return list_of_ids\n",
    "\n",
    "# call the function for hot_song\n",
    "list_of_ids = search_song(hot_songs['title'], hot_songs['artist'], limit=1)\n",
    "hot_songs['id'] = list_of_ids\n",
    "hot_songs = hot_songs[hot_songs['id'] != \"None\"]"
   ]
  },
  {
   "cell_type": "code",
   "execution_count": null,
   "id": "0af5c59e",
   "metadata": {},
   "outputs": [],
   "source": [
    "list_of_ids\n"
   ]
  },
  {
   "cell_type": "code",
   "execution_count": null,
   "id": "9c75451e",
   "metadata": {},
   "outputs": [],
   "source": [
    "search_song('Greedy', 'Tate McRae')"
   ]
  },
  {
   "cell_type": "code",
   "execution_count": null,
   "id": "8e156e78",
   "metadata": {},
   "outputs": [],
   "source": []
  },
  {
   "cell_type": "code",
   "execution_count": null,
   "id": "7076f190",
   "metadata": {},
   "outputs": [],
   "source": [
    "\n"
   ]
  },
  {
   "cell_type": "code",
   "execution_count": null,
   "id": "a6c11184",
   "metadata": {},
   "outputs": [],
   "source": [
    "# call the function for hot_song\n",
    "list_of_ids2 = search_song(not_hot_songs['title'], not_hot_songs['artist'], limit=1)\n",
    "not_hot_songs['id'] = list_of_ids2\n",
    "not_hot_songs = not_hot_songs[not_hot_songs['id'] != \"None\"]"
   ]
  },
  {
   "cell_type": "code",
   "execution_count": null,
   "id": "6d4c2967",
   "metadata": {},
   "outputs": [],
   "source": [
    "list_of_ids2"
   ]
  },
  {
   "cell_type": "code",
   "execution_count": null,
   "id": "2dda152a",
   "metadata": {},
   "outputs": [],
   "source": [
    "def get_audio_features(list_of_ids):\n",
    "    progress_bar = widgets.IntProgress(\n",
    "    value=0,\n",
    "    min=0,\n",
    "    max=len(chunks),\n",
    "    description='Progress:',\n",
    "    bar_style='',\n",
    "    style={'bar_color': 'blue'},\n",
    "    orientation='horizontal'\n",
    "    )\n",
    "    \n",
    "    display(progress_bar)\n",
    "    \n",
    "    audio_features = []\n",
    "    for song_id in list_of_ids:\n",
    "        try:\n",
    "            features = sp.audio_features(song_id)[0]\n",
    "            audio_features.append(features)\n",
    "        except:\n",
    "            print(\"Failed to retrieve audio features for\", song_id)\n",
    "    # Update progress bar to display completed progress\n",
    "        progress_bar.value = len(chunks)\n",
    "\n",
    "\n",
    "    return audio_features"
   ]
  },
  {
   "cell_type": "code",
   "execution_count": null,
   "id": "4d360225",
   "metadata": {},
   "outputs": [],
   "source": [
    "# Assuming you have a list of song IDs called 'list_of_ids'\n",
    "\n",
    "# dictionary to store the audio features\n",
    "audio_features_dict = {\n",
    "    'danceability': [],\n",
    "    'energy': [],\n",
    "    'key': [],\n",
    "    'loudness': [],\n",
    "    'mode': [],\n",
    "    'speechiness': [],\n",
    "    'acousticness': [],\n",
    "    'instrumentalness': [],\n",
    "    'liveness': [],\n",
    "    'valence': [],\n",
    "    'tempo': [],\n",
    "    'duration_ms': [],\n",
    "    'time_signature': []\n",
    "}\n",
    "\n",
    "# audio features for each song\n",
    "audio_features = get_audio_features(list_of_ids)\n",
    "for features in audio_features:\n",
    "    if features is not None:\n",
    "        for key, value in audio_features_dict.items():\n",
    "            audio_features_dict[key].append(features.get(key, None))\n",
    "    else:\n",
    "        print(\"Audio features not retrieved for a song\")\n",
    "\n",
    "# df from the audio features dictionary\n",
    "df_audio_features = pd.DataFrame(audio_features_dict)"
   ]
  },
  {
   "cell_type": "code",
   "execution_count": null,
   "id": "b8fb01ec",
   "metadata": {},
   "outputs": [],
   "source": [
    "# audio features for each song\n",
    "audio_features = get_audio_features(list_of_ids2)\n",
    "for features in audio_features:\n",
    "    if features is not None:\n",
    "        for key, value in audio_features_dict.items():\n",
    "            audio_features_dict[key].append(features.get(key, None))\n",
    "    else:\n",
    "        print(\"Audio features not retrieved for a song\")\n",
    "\n",
    "# df from the audio features dictionary\n",
    "df_audio_features2 = pd.DataFrame(audio_features_dict)"
   ]
  },
  {
   "cell_type": "code",
   "execution_count": null,
   "id": "afe03cff",
   "metadata": {},
   "outputs": [],
   "source": [
    "df_audio_features"
   ]
  },
  {
   "cell_type": "code",
   "execution_count": null,
   "id": "c76fb47a",
   "metadata": {},
   "outputs": [],
   "source": [
    "df_audio_features2"
   ]
  },
  {
   "cell_type": "code",
   "execution_count": null,
   "id": "1fbfc0d6",
   "metadata": {},
   "outputs": [],
   "source": [
    "hot_songs['id'] = None"
   ]
  },
  {
   "cell_type": "code",
   "execution_count": null,
   "id": "565d8b8e",
   "metadata": {},
   "outputs": [],
   "source": [
    "not_hot_songs['id'] = None"
   ]
  },
  {
   "cell_type": "code",
   "execution_count": null,
   "id": "a968c6e2",
   "metadata": {},
   "outputs": [],
   "source": [
    "def add_audio_features(df, audio_features_df):\n",
    "    merged_df = pd.concat([df, audio_features_df], axis=1)\n",
    "    return merged_df"
   ]
  },
  {
   "cell_type": "code",
   "execution_count": null,
   "id": "a75d0c8a",
   "metadata": {},
   "outputs": [],
   "source": [
    "#  the audio features for the songs\n",
    "list_of_ids = hot_songs['id'].tolist()\n",
    "audio_features = get_audio_features(list_of_ids)\n",
    "\n",
    "list_of_ids2 = not_hot_songs['id'].tolist()\n",
    "audio_features = get_audio_features(list_of_ids2)"
   ]
  },
  {
   "cell_type": "code",
   "execution_count": null,
   "id": "42fda065",
   "metadata": {},
   "outputs": [],
   "source": [
    "# Create a dataframe from the audio features\n",
    "audio_features_df = pd.DataFrame(audio_features)\n",
    "\n",
    "# Add audio features to the hot_songs dataframe\n",
    "extended_hot_songs = add_audio_features(hot_songs, audio_features_df)\n",
    "\n",
    "# Add audio features to the not_hot_songs dataframe\n",
    "extended_not_hot_songs = add_audio_features(not_hot_songs, audio_features_df)\n",
    "\n",
    "# Save the extended hot_songs dataframe to a file\n",
    "extended_hot_songs.to_csv('extended_hot_songs.csv', index=False)\n",
    "\n",
    "# Save the extended hot_songs dataframe to a file\n",
    "extended_not_hot_songs.to_csv('extended_not_hot_songs.csv', index=False)"
   ]
  },
  {
   "cell_type": "code",
   "execution_count": null,
   "id": "d7c7f4c2",
   "metadata": {},
   "outputs": [],
   "source": []
  }
 ],
 "metadata": {
  "kernelspec": {
   "display_name": "Python 3 (ipykernel)",
   "language": "python",
   "name": "python3"
  },
  "language_info": {
   "codemirror_mode": {
    "name": "ipython",
    "version": 3
   },
   "file_extension": ".py",
   "mimetype": "text/x-python",
   "name": "python",
   "nbconvert_exporter": "python",
   "pygments_lexer": "ipython3",
   "version": "3.11.5"
  }
 },
 "nbformat": 4,
 "nbformat_minor": 5
}
